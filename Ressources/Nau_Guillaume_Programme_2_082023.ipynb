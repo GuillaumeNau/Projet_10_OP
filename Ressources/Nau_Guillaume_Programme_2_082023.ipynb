{
 "cells": [
  {
   "cell_type": "code",
   "execution_count": 2,
   "id": "0e35b11a",
   "metadata": {},
   "outputs": [
    {
     "name": "stdout",
     "output_type": "stream",
     "text": [
      "   height_right  margin_low  margin_up  length predicted_class  \\\n",
      "0        103.73        4.39       3.09  113.19            Vrai   \n",
      "1        104.03        5.27       3.16  111.82            Faux   \n",
      "2        103.75        3.81       3.24  113.39            Vrai   \n",
      "3        103.99        5.57       3.30  111.10            Faux   \n",
      "4        104.37        5.00       3.07  111.87            Faux   \n",
      "\n",
      "   predicted_probability  \n",
      "0                0.99889  \n",
      "1                0.99946  \n",
      "2                0.99994  \n",
      "3                1.00000  \n",
      "4                0.99770  \n"
     ]
    }
   ],
   "source": [
    "import pandas as pd\n",
    "import pickle\n",
    "import statsmodels.api as sm  # Importez statsmodels\n",
    "\n",
    "# Charger le modèle sauvegardé\n",
    "with open('logistic_model.pkl', 'rb') as model_file:\n",
    "    loaded_model = pickle.load(model_file)\n",
    "\n",
    "# Charger le nouveau DataFrame de test\n",
    "new_data = pd.read_csv('billets_test.csv')  # Remplacez par le nom de votre fichier\n",
    "\n",
    "# Préparation des caractéristiques du nouveau DataFrame\n",
    "test_data = new_data.drop(['id', 'height_left', 'diagonal'], axis=1)  # Retirez les colonnes retirées lors de l'ajustement du modèle\n",
    "\n",
    "# Prédictions sur le DataFrame de test\n",
    "X_test_new = sm.add_constant(test_data)\n",
    "test_data['predicted_class'] = loaded_model.predict(X_test_new) >= 0.5\n",
    "test_data['predicted_probability'] = loaded_model.predict(X_test_new)\n",
    "\n",
    "# Calculer et ajuster les probabilités pour les billets faux\n",
    "test_data['predicted_probability'] = test_data.apply(lambda row: 1 - row['predicted_probability'] if not row['predicted_class'] else row['predicted_probability'], axis=1)\n",
    "\n",
    "# Arrondir les valeurs de pourcentage à 5 décimales\n",
    "test_data['predicted_probability'] = test_data['predicted_probability'].apply(lambda x: round(x, 5))\n",
    "test_data['predicted_class'] = test_data['predicted_class'].apply(lambda x: 'Vrai' if x else 'Faux')\n",
    "\n",
    "\n",
    "# Afficher le DataFrame de test avec les prédictions\n",
    "print(test_data)\n"
   ]
  },
  {
   "cell_type": "code",
   "execution_count": null,
   "id": "0d966694",
   "metadata": {},
   "outputs": [],
   "source": []
  }
 ],
 "metadata": {
  "kernelspec": {
   "display_name": "Python 3 (ipykernel)",
   "language": "python",
   "name": "python3"
  },
  "language_info": {
   "codemirror_mode": {
    "name": "ipython",
    "version": 3
   },
   "file_extension": ".py",
   "mimetype": "text/x-python",
   "name": "python",
   "nbconvert_exporter": "python",
   "pygments_lexer": "ipython3",
   "version": "3.9.13"
  }
 },
 "nbformat": 4,
 "nbformat_minor": 5
}
